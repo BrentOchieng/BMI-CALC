{
  "nbformat": 4,
  "nbformat_minor": 0,
  "metadata": {
    "colab": {
      "provenance": [],
      "authorship_tag": "ABX9TyO4x4bW85EDPw8PNk5FZSzi",
      "include_colab_link": true
    },
    "kernelspec": {
      "name": "python3",
      "display_name": "Python 3"
    },
    "language_info": {
      "name": "python"
    }
  },
  "cells": [
    {
      "cell_type": "markdown",
      "metadata": {
        "id": "view-in-github",
        "colab_type": "text"
      },
      "source": [
        "<a href=\"https://colab.research.google.com/github/BrentOchieng/BMI-CALC/blob/main/BMI_CALCULATOR.ipynb\" target=\"_parent\"><img src=\"https://colab.research.google.com/assets/colab-badge.svg\" alt=\"Open In Colab\"/></a>"
      ]
    },
    {
      "cell_type": "code",
      "execution_count": null,
      "metadata": {
        "id": "LXiANvYqDEA2"
      },
      "outputs": [],
      "source": []
    },
    {
      "cell_type": "markdown",
      "source": [
        "This code calculates Basal Metabolic Index (BMI) of an individual and assesses the possibility of a health Risk.\n"
      ],
      "metadata": {
        "id": "0l_7hGGJDm0h"
      }
    },
    {
      "cell_type": "code",
      "source": [
        "weight=input('ENTER YOUR WEIGHT')\n",
        "height=input('ENTER YOUR HEIGHT')\n",
        "\n",
        "weight_num=int(weight)\n",
        "height_num=float(height)\n",
        "\n",
        "BMI=weight_num/height_num\n",
        "\n",
        "if BMI>0:\n",
        "  if BMI<18.5:\n",
        "    print(f\"YOUR BMI IS{BMI} AND YOU ARE UNDERWEIGHT. MINIMAL HEALTH RISK FACTOR\" )\n",
        "  elif BMI>=18.5 and BMI<=24.9:\n",
        "    print(f\"YOUR BMI IS {BMI}. YOU HAVE NORMAL WEIGHT. MINIMAL HEALTH RISK FACTOR\")\n",
        "  elif BMI>=25 and BMI<=29.9:\n",
        "    print(f\"YOUR BMI IS {BMI}. YOU ARE OVERWEIGHT.SLIGHTLY INCREASED RISK OF HEALTH FACTOR\")\n",
        "  elif BMI>=30 and BMI<=34.9:\n",
        "    print(f\"YOUR BMI IS {BMI}.YOU ARE OVERWEIGHT AND OBESE. HIGH RISK OF HEALTH FACTORS\")\n",
        "  elif BMI>=30 and BMI<=34.9:\n",
        "    print(f\"YOUR BMI IS {BMI}. YOU ARE HIGHLY OBESE. EXTREME RISK OF HEALTH FACTORS\")\n",
        "  else:\n",
        "    print(f\"YOUR BMI IS {BMI}.YOU NEED TO DO SOMETHING URGENTLY ABOUT YOUR HEALTH\")\n",
        "else:\n",
        "    print('ENTER A VALID INPUT')"
      ],
      "metadata": {
        "id": "4awRjOm1D5in"
      },
      "execution_count": null,
      "outputs": []
    }
  ]
}