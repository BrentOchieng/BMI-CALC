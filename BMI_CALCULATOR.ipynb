{
  "nbformat": 4,
  "nbformat_minor": 0,
  "metadata": {
    "colab": {
      "provenance": [],
      "authorship_tag": "ABX9TyO4x4bW85EDPw8PNk5FZSzi",
      "include_colab_link": true
    },
    "kernelspec": {
      "name": "python3",
      "display_name": "Python 3"
    },
    "language_info": {
      "name": "python"
    }
  },
  "cells": [
    {
      "cell_type": "markdown",
      "metadata": {
        "id": "view-in-github",
        "colab_type": "text"
      },
      "source": [
        "<a href=\"https://colab.research.google.com/github/BrentOchieng/BMI-CALC/blob/main/BMI_CALCULATOR.ipynb\" target=\"_parent\"><img src=\"https://colab.research.google.com/assets/colab-badge.svg\" alt=\"Open In Colab\"/></a>"
      ]
    },
    {
      "cell_type": "code",
      "execution_count": null,
      "metadata": {
        "id": "LXiANvYqDEA2"
      },
      "outputs": [],
      "source": []
    },
    {
      "cell_type": "markdown",
      "source": [
        "This code calculates Basal Metabolic Index (BMI) of an individual and assesses the possibility of a health Risk.\n"
      ],
      "metadata": {
        "id": "0l_7hGGJDm0h"
      }
    },
    {
      "cell_type": "code",
      "source": [
        "weight=input('ENTER YOUR WEIGHT')\n",
        "height=input('ENTER YOUR HEIGHT')\n",
        "\n",
        "weight_num=int(weight)\n",
        "height_num=float(height)\n",
        "\n",
        "BMI=weight_num/height_num\n",
        "\n",
        "if BMI>0:\n",
        "  if BMI<18.5:\n",
        "    print(f\"YOUR BMI IS{BMI} AND YOU ARE UNDERWEIGHT. MINIMAL HEALTH RISK FACTOR\" )\n",
        "  elif BMI>=18.5 and BMI<=24.9:\n",
        "    print(f\"YOUR BMI IS {BMI}. YOU HAVE NORMAL WEIGHT. MINIMAL HEALTH RISK FACTOR\")\n",
        "  elif BMI>=25 and BMI<=29.9:\n",
        "    print(f\"YOUR BMI IS {BMI}. YOU ARE OVERWEIGHT.SLIGHTLY INCREASED RISK OF HEALTH FACTOR\")\n",
        "  elif BMI>=30 and BMI<=34.9:\n",
        "    print(f\"YOUR BMI IS {BMI}.YOU ARE OVERWEIGHT AND OBESE. HIGH RISK OF HEALTH FACTORS\")\n",
        "  elif BMI>=30 and BMI<=34.9:\n",
        "    print(f\"YOUR BMI IS {BMI}. YOU ARE HIGHLY OBESE. EXTREME RISK OF HEALTH FACTORS\")\n",
        "  else:\n",
        "    print(f\"YOUR BMI IS {BMI}.YOU NEED TO DO SOMETHING URGENTLY ABOUT YOUR HEALTH\")\n",
        "else:\n",
        "    print('ENTER A VALID INPUT')"
      ],
      "metadata": {
        "colab": {
          "base_uri": "https://localhost:8080/",
          "height": 211
        },
        "id": "4awRjOm1D5in",
        "outputId": "51127598-cc43-4ed1-dd9d-3fcd73a2b3d1"
      },
      "execution_count": 8,
      "outputs": [
        {
          "output_type": "error",
          "ename": "TypeError",
          "evalue": "Kernel.raw_input() takes from 1 to 2 positional arguments but 3 were given",
          "traceback": [
            "\u001b[0;31m---------------------------------------------------------------------------\u001b[0m",
            "\u001b[0;31mTypeError\u001b[0m                                 Traceback (most recent call last)",
            "\u001b[0;32m/tmp/ipython-input-8-1505521157.py\u001b[0m in \u001b[0;36m<cell line: 0>\u001b[0;34m()\u001b[0m\n\u001b[0;32m----> 1\u001b[0;31m \u001b[0mweight\u001b[0m\u001b[0;34m=\u001b[0m\u001b[0minput\u001b[0m\u001b[0;34m(\u001b[0m\u001b[0;34m\"  \"\u001b[0m\u001b[0;34m,\u001b[0m\u001b[0;34m'ENTER YOUR WEIGHT'\u001b[0m\u001b[0;34m)\u001b[0m\u001b[0;34m\u001b[0m\u001b[0;34m\u001b[0m\u001b[0m\n\u001b[0m\u001b[1;32m      2\u001b[0m \u001b[0mheight\u001b[0m\u001b[0;34m=\u001b[0m\u001b[0minput\u001b[0m\u001b[0;34m(\u001b[0m\u001b[0;34m\"  \"\u001b[0m\u001b[0;34m,\u001b[0m\u001b[0;34m'ENTER YOUR HEIGHT'\u001b[0m\u001b[0;34m)\u001b[0m\u001b[0;34m\u001b[0m\u001b[0;34m\u001b[0m\u001b[0m\n\u001b[1;32m      3\u001b[0m \u001b[0;34m\u001b[0m\u001b[0m\n\u001b[1;32m      4\u001b[0m \u001b[0mweight_num\u001b[0m\u001b[0;34m=\u001b[0m\u001b[0mint\u001b[0m\u001b[0;34m(\u001b[0m\u001b[0mweight\u001b[0m\u001b[0;34m)\u001b[0m\u001b[0;34m\u001b[0m\u001b[0;34m\u001b[0m\u001b[0m\n\u001b[1;32m      5\u001b[0m \u001b[0mheight_num\u001b[0m\u001b[0;34m=\u001b[0m\u001b[0mfloat\u001b[0m\u001b[0;34m(\u001b[0m\u001b[0mheight\u001b[0m\u001b[0;34m)\u001b[0m\u001b[0;34m\u001b[0m\u001b[0;34m\u001b[0m\u001b[0m\n",
            "\u001b[0;31mTypeError\u001b[0m: Kernel.raw_input() takes from 1 to 2 positional arguments but 3 were given"
          ]
        }
      ]
    }
  ]
}